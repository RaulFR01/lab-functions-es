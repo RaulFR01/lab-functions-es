{
 "cells": [
  {
   "cell_type": "markdown",
   "metadata": {},
   "source": [
    "# Functions"
   ]
  },
  {
   "cell_type": "markdown",
   "metadata": {},
   "source": [
    "En este laboratorio pondremos en práctica algunos de los conceptos que hemos aprendido en los últimos días.\n",
    "\n",
    "`NOTA: En este laboratorio deberías intentar escribir todas las funciones por ti mismo utilizando solo la sintaxis más básica de Python y sin funciones como len, count, sum, max, min, in, etc. Dale una oportunidad. 🧑🏻‍💻👩🏻‍💻`\n",
    "\n",
    "La celda después de cada ejercicio contiene algunas pruebas para verificar si tu función funciona como se espera."
   ]
  },
  {
   "cell_type": "code",
   "execution_count": 3,
   "metadata": {},
   "outputs": [],
   "source": [
    "from mod.testing import *\n",
    "import unittest"
   ]
  },
  {
   "cell_type": "markdown",
   "metadata": {},
   "source": [
    "## 1. Escribe una función que devuelva el mayor de dos números"
   ]
  },
  {
   "cell_type": "code",
   "execution_count": 4,
   "metadata": {},
   "outputs": [],
   "source": [
    "def greater(a,b):\n",
    "    if a > b:\n",
    "        return a\n",
    "    return b\n",
    "#your code here#tu codigo aquí"
   ]
  },
  {
   "cell_type": "code",
   "execution_count": 5,
   "metadata": {},
   "outputs": [
    {
     "name": "stderr",
     "output_type": "stream",
     "text": [
      "....................................................................................................\n",
      "----------------------------------------------------------------------\n",
      "Ran 100 tests in 0.080s\n",
      "\n",
      "OK\n"
     ]
    }
   ],
   "source": [
    "# Para testear tu función\n",
    "test_greater(greater)"
   ]
  },
  {
   "cell_type": "markdown",
   "metadata": {},
   "source": [
    "## 2. Ahora escribe una función que devuelva el elemento más"
   ]
  },
  {
   "cell_type": "code",
   "execution_count": 6,
   "metadata": {},
   "outputs": [],
   "source": [
    "#tu codigo aquí\n",
    "def greatest(lst):\n",
    "    aux = 0\n",
    "    for element in lst:\n",
    "        if element > aux:\n",
    "            aux = element\n",
    "    return aux"
   ]
  },
  {
   "cell_type": "code",
   "execution_count": 7,
   "metadata": {},
   "outputs": [
    {
     "name": "stderr",
     "output_type": "stream",
     "text": [
      "....................................................................................................\n",
      "----------------------------------------------------------------------\n",
      "Ran 100 tests in 0.081s\n",
      "\n",
      "OK\n"
     ]
    }
   ],
   "source": [
    "# Para testear tu función\n",
    "test_greatest(greatest)"
   ]
  },
  {
   "cell_type": "markdown",
   "metadata": {},
   "source": [
    "## 3. Escribe una función que sume todos los elementos de una lista"
   ]
  },
  {
   "cell_type": "code",
   "execution_count": 8,
   "metadata": {},
   "outputs": [],
   "source": [
    "def sum_all(lst):\n",
    "    result = 0\n",
    "    for element in lst:\n",
    "        result += element\n",
    "    return result\n",
    "#tu codigo aquí"
   ]
  },
  {
   "cell_type": "code",
   "execution_count": 9,
   "metadata": {
    "scrolled": true
   },
   "outputs": [
    {
     "name": "stderr",
     "output_type": "stream",
     "text": [
      "....................................................................................................\n",
      "----------------------------------------------------------------------\n",
      "Ran 100 tests in 0.082s\n",
      "\n",
      "OK\n"
     ]
    }
   ],
   "source": [
    "# Para testear tu función\n",
    "test_sum(sum_all)"
   ]
  },
  {
   "cell_type": "markdown",
   "metadata": {},
   "source": [
    "## 4. Escribe otra función que multiplique todos los elementos de una lista"
   ]
  },
  {
   "cell_type": "code",
   "execution_count": 10,
   "metadata": {},
   "outputs": [],
   "source": [
    "def mult_all(lst):\n",
    "    result = 1\n",
    "    for element in lst:\n",
    "        result *= element\n",
    "    return result\n",
    "#tu codigo aquí"
   ]
  },
  {
   "cell_type": "code",
   "execution_count": 11,
   "metadata": {
    "scrolled": true
   },
   "outputs": [
    {
     "name": "stderr",
     "output_type": "stream",
     "text": [
      "....................................................................................................\n",
      "----------------------------------------------------------------------\n",
      "Ran 100 tests in 0.078s\n",
      "\n",
      "OK\n"
     ]
    }
   ],
   "source": [
    "# Para testear tu función\n",
    "test_mult(mult_all)"
   ]
  },
  {
   "cell_type": "markdown",
   "metadata": {},
   "source": [
    "## 5. Ahora combina esas dos ideas y escribe una función que reciba una lista y ya sea \"+\" o \"*\", y produzca el resultado acorde"
   ]
  },
  {
   "cell_type": "code",
   "execution_count": 12,
   "metadata": {},
   "outputs": [],
   "source": [
    "def oper_all(arr, oper = \"*\"):\n",
    "    if oper == '*':\n",
    "        return mult_all(arr)\n",
    "    else:\n",
    "        return sum_all(arr)\n",
    "#tu codigo aquí"
   ]
  },
  {
   "cell_type": "code",
   "execution_count": 13,
   "metadata": {},
   "outputs": [
    {
     "name": "stderr",
     "output_type": "stream",
     "text": [
      "....................................................................................................\n",
      "----------------------------------------------------------------------\n",
      "Ran 100 tests in 0.082s\n",
      "\n",
      "OK\n"
     ]
    }
   ],
   "source": [
    "# Para testear tu función\n",
    "test_operations(oper_all)"
   ]
  },
  {
   "cell_type": "markdown",
   "metadata": {},
   "source": [
    "## 6. Escribe una función que devuelva el factorial de un número."
   ]
  },
  {
   "cell_type": "code",
   "execution_count": 14,
   "metadata": {},
   "outputs": [],
   "source": [
    "def factorial(n):\n",
    "    if n == 1:\n",
    "        return 1\n",
    "    return n * factorial(n-1)\n",
    "#tu codigo aquí"
   ]
  },
  {
   "cell_type": "code",
   "execution_count": 15,
   "metadata": {},
   "outputs": [],
   "source": [
    "# Fórmula factorial\n",
    "# n! = n * (n - 1) *...*1\n",
    "\n",
    "# Este código define una función llamada \"factorial\" que toma una entrada \"n\". La función utiliza un bucle for para iterar a través del rango de números\n",
    "# desde 1 hasta n+1. Para cada número en ese rango, multiplica el valor actual de x por el número en el rango. Al final del bucle,\n",
    "# la función devuelve el valor final de x, que será el factorial del número de entrada \"n\".\n",
    "\n",
    "# El factorial de un entero positivo n es el producto de todos los enteros positivos menores o iguales a n.\n",
    "# Por ejemplo, el factorial de 6 (escrito \"6!\") es 6 * 5 * 4 * 3 * 2 * 1 = 720.\n",
    "\n",
    "# Así que esta función toma una entrada de cualquier entero positivo y devuelve el factorial de ese número."
   ]
  },
  {
   "cell_type": "code",
   "execution_count": 16,
   "metadata": {},
   "outputs": [
    {
     "name": "stderr",
     "output_type": "stream",
     "text": [
      "....................................................................................................\n",
      "----------------------------------------------------------------------\n",
      "Ran 100 tests in 0.063s\n",
      "\n",
      "OK\n"
     ]
    }
   ],
   "source": [
    "# This will test your function \n",
    "test_factorial(factorial)"
   ]
  },
  {
   "cell_type": "markdown",
   "metadata": {},
   "source": [
    "## 7. Escribe una función que tome una lista y devuelva una lista de los valores únicos.\n",
    "\n",
    "`NOTE: No podemos usar set. 🤔`"
   ]
  },
  {
   "cell_type": "code",
   "execution_count": 17,
   "metadata": {},
   "outputs": [
    {
     "ename": "SyntaxError",
     "evalue": "incomplete input (3978216279.py, line 2)",
     "output_type": "error",
     "traceback": [
      "\u001b[0;36m  Cell \u001b[0;32mIn[17], line 2\u001b[0;36m\u001b[0m\n\u001b[0;31m    #tu codigo aquí\u001b[0m\n\u001b[0m                   ^\u001b[0m\n\u001b[0;31mSyntaxError\u001b[0m\u001b[0;31m:\u001b[0m incomplete input\n"
     ]
    }
   ],
   "source": [
    "def unique(lst_un):\n",
    "#tu codigo aquí"
   ]
  },
  {
   "cell_type": "code",
   "execution_count": null,
   "metadata": {},
   "outputs": [],
   "source": [
    "# Para testear tu función \n",
    "test_unique(unique)"
   ]
  },
  {
   "cell_type": "markdown",
   "metadata": {},
   "source": [
    "## 8. Escribe una función que devuelva la moda de una lista, es decir: el elemento que aparece más veces.\n",
    "\n",
    "`NOTE: No se debe usar count... 🧐`"
   ]
  },
  {
   "cell_type": "code",
   "execution_count": null,
   "metadata": {},
   "outputs": [],
   "source": [
    "def mode_counter(arr):   \n",
    "#tu codigo aquí"
   ]
  },
  {
   "cell_type": "code",
   "execution_count": null,
   "metadata": {},
   "outputs": [],
   "source": [
    "# Para testear tu función \n",
    "test_mode(mode_counter)"
   ]
  },
  {
   "cell_type": "markdown",
   "metadata": {},
   "source": [
    "## 9. Escribe una función que calcule la desviación estándar de una lista.\n",
    "`NOTE: no utilices librerías ni ninguna función ya construida. 😉`"
   ]
  },
  {
   "cell_type": "code",
   "execution_count": 36,
   "metadata": {},
   "outputs": [],
   "source": [
    "def st_dev(list_sd):\n",
    "    promedio = 0\n",
    "    for i in list_sd:\n",
    "        promedio += i\n",
    "    promedio = promedio / len(list_sd)\n",
    "\n",
    "    varianza = 0\n",
    "\n",
    "    for i in list_sd:\n",
    "        varianza += (i - promedio)**2\n",
    "    \n",
    "    varianza = varianza / len(list_sd)\n",
    "    desviacion = varianza**0.5\n",
    "    return desviacion\n",
    "#tu codigo aquí"
   ]
  },
  {
   "cell_type": "code",
   "execution_count": 37,
   "metadata": {},
   "outputs": [
    {
     "name": "stderr",
     "output_type": "stream",
     "text": [
      "FF..FF..F.FFF...FF.....FFF.FF.FF.FF.F..FF.FFFFFFF...FFF.F...FFFFFF.F..FFFFFFFFF.FF...F.FFFF...FFFF..\n",
      "======================================================================\n",
      "FAIL: runTest (mod.testing.test_stdev.<locals>.TestKnown)\n",
      "----------------------------------------------------------------------\n",
      "Traceback (most recent call last):\n",
      "  File \"/home/ubuntu/jupyter/lab-functions-es/mod/testing.py\", line 142, in runTest\n",
      "    self.assertAlmostEqual(fn(self.input), self.output, delta=5, msg=f\"Should be {self.output}\")\n",
      "AssertionError: 529.635823243819 != 544.1490808796999 within 5 delta (14.513257635880905 difference) : Should be 544.1490808796999\n",
      "\n",
      "======================================================================\n",
      "FAIL: runTest (mod.testing.test_stdev.<locals>.TestKnown)\n",
      "----------------------------------------------------------------------\n",
      "Traceback (most recent call last):\n",
      "  File \"/home/ubuntu/jupyter/lab-functions-es/mod/testing.py\", line 142, in runTest\n",
      "    self.assertAlmostEqual(fn(self.input), self.output, delta=5, msg=f\"Should be {self.output}\")\n",
      "AssertionError: 590.2420067747404 != 597.9579160490493 within 5 delta (7.715909274308956 difference) : Should be 597.9579160490493\n",
      "\n",
      "======================================================================\n",
      "FAIL: runTest (mod.testing.test_stdev.<locals>.TestKnown)\n",
      "----------------------------------------------------------------------\n",
      "Traceback (most recent call last):\n",
      "  File \"/home/ubuntu/jupyter/lab-functions-es/mod/testing.py\", line 142, in runTest\n",
      "    self.assertAlmostEqual(fn(self.input), self.output, delta=5, msg=f\"Should be {self.output}\")\n",
      "AssertionError: 518.9477925847372 != 526.5240735237088 within 5 delta (7.5762809389716494 difference) : Should be 526.5240735237088\n",
      "\n",
      "======================================================================\n",
      "FAIL: runTest (mod.testing.test_stdev.<locals>.TestKnown)\n",
      "----------------------------------------------------------------------\n",
      "Traceback (most recent call last):\n",
      "  File \"/home/ubuntu/jupyter/lab-functions-es/mod/testing.py\", line 142, in runTest\n",
      "    self.assertAlmostEqual(fn(self.input), self.output, delta=5, msg=f\"Should be {self.output}\")\n",
      "AssertionError: 523.149420451064 != 528.5708027666823 within 5 delta (5.4213823156183025 difference) : Should be 528.5708027666823\n",
      "\n",
      "======================================================================\n",
      "FAIL: runTest (mod.testing.test_stdev.<locals>.TestKnown)\n",
      "----------------------------------------------------------------------\n",
      "Traceback (most recent call last):\n",
      "  File \"/home/ubuntu/jupyter/lab-functions-es/mod/testing.py\", line 142, in runTest\n",
      "    self.assertAlmostEqual(fn(self.input), self.output, delta=5, msg=f\"Should be {self.output}\")\n",
      "AssertionError: 555.6564218756025 != 566.6605875993685 within 5 delta (11.004165723765936 difference) : Should be 566.6605875993685\n",
      "\n",
      "======================================================================\n",
      "FAIL: runTest (mod.testing.test_stdev.<locals>.TestKnown)\n",
      "----------------------------------------------------------------------\n",
      "Traceback (most recent call last):\n",
      "  File \"/home/ubuntu/jupyter/lab-functions-es/mod/testing.py\", line 142, in runTest\n",
      "    self.assertAlmostEqual(fn(self.input), self.output, delta=5, msg=f\"Should be {self.output}\")\n",
      "AssertionError: 666.9587731179887 != 672.3159577578176 within 5 delta (5.357184639828915 difference) : Should be 672.3159577578176\n",
      "\n",
      "======================================================================\n",
      "FAIL: runTest (mod.testing.test_stdev.<locals>.TestKnown)\n",
      "----------------------------------------------------------------------\n",
      "Traceback (most recent call last):\n",
      "  File \"/home/ubuntu/jupyter/lab-functions-es/mod/testing.py\", line 142, in runTest\n",
      "    self.assertAlmostEqual(fn(self.input), self.output, delta=5, msg=f\"Should be {self.output}\")\n",
      "AssertionError: 571.4890336266791 != 591.5473494714237 within 5 delta (20.058315844744584 difference) : Should be 591.5473494714237\n",
      "\n",
      "======================================================================\n",
      "FAIL: runTest (mod.testing.test_stdev.<locals>.TestKnown)\n",
      "----------------------------------------------------------------------\n",
      "Traceback (most recent call last):\n",
      "  File \"/home/ubuntu/jupyter/lab-functions-es/mod/testing.py\", line 142, in runTest\n",
      "    self.assertAlmostEqual(fn(self.input), self.output, delta=5, msg=f\"Should be {self.output}\")\n",
      "AssertionError: 550.9493874213855 != 565.2621445889183 within 5 delta (14.312757167532823 difference) : Should be 565.2621445889183\n",
      "\n",
      "======================================================================\n",
      "FAIL: runTest (mod.testing.test_stdev.<locals>.TestKnown)\n",
      "----------------------------------------------------------------------\n",
      "Traceback (most recent call last):\n",
      "  File \"/home/ubuntu/jupyter/lab-functions-es/mod/testing.py\", line 142, in runTest\n",
      "    self.assertAlmostEqual(fn(self.input), self.output, delta=5, msg=f\"Should be {self.output}\")\n",
      "AssertionError: 622.4480299773104 != 629.1773934387909 within 5 delta (6.729363461480489 difference) : Should be 629.1773934387909\n",
      "\n",
      "======================================================================\n",
      "FAIL: runTest (mod.testing.test_stdev.<locals>.TestKnown)\n",
      "----------------------------------------------------------------------\n",
      "Traceback (most recent call last):\n",
      "  File \"/home/ubuntu/jupyter/lab-functions-es/mod/testing.py\", line 142, in runTest\n",
      "    self.assertAlmostEqual(fn(self.input), self.output, delta=5, msg=f\"Should be {self.output}\")\n",
      "AssertionError: 536.9852148687655 != 543.0530370139744 within 5 delta (6.067822145208879 difference) : Should be 543.0530370139744\n",
      "\n",
      "======================================================================\n",
      "FAIL: runTest (mod.testing.test_stdev.<locals>.TestKnown)\n",
      "----------------------------------------------------------------------\n",
      "Traceback (most recent call last):\n",
      "  File \"/home/ubuntu/jupyter/lab-functions-es/mod/testing.py\", line 142, in runTest\n",
      "    self.assertAlmostEqual(fn(self.input), self.output, delta=5, msg=f\"Should be {self.output}\")\n",
      "AssertionError: 667.990482955079 != 686.2949811630496 within 5 delta (18.304498207970596 difference) : Should be 686.2949811630496\n",
      "\n",
      "======================================================================\n",
      "FAIL: runTest (mod.testing.test_stdev.<locals>.TestKnown)\n",
      "----------------------------------------------------------------------\n",
      "Traceback (most recent call last):\n",
      "  File \"/home/ubuntu/jupyter/lab-functions-es/mod/testing.py\", line 142, in runTest\n",
      "    self.assertAlmostEqual(fn(self.input), self.output, delta=5, msg=f\"Should be {self.output}\")\n",
      "AssertionError: 526.3676069060481 != 537.221689187372 within 5 delta (10.85408228132394 difference) : Should be 537.221689187372\n",
      "\n",
      "======================================================================\n",
      "FAIL: runTest (mod.testing.test_stdev.<locals>.TestKnown)\n",
      "----------------------------------------------------------------------\n",
      "Traceback (most recent call last):\n",
      "  File \"/home/ubuntu/jupyter/lab-functions-es/mod/testing.py\", line 142, in runTest\n",
      "    self.assertAlmostEqual(fn(self.input), self.output, delta=5, msg=f\"Should be {self.output}\")\n",
      "AssertionError: 607.819738096094 != 619.3982973113913 within 5 delta (11.578559215297219 difference) : Should be 619.3982973113913\n",
      "\n",
      "======================================================================\n",
      "FAIL: runTest (mod.testing.test_stdev.<locals>.TestKnown)\n",
      "----------------------------------------------------------------------\n",
      "Traceback (most recent call last):\n",
      "  File \"/home/ubuntu/jupyter/lab-functions-es/mod/testing.py\", line 142, in runTest\n",
      "    self.assertAlmostEqual(fn(self.input), self.output, delta=5, msg=f\"Should be {self.output}\")\n",
      "AssertionError: 456.1230206863056 != 480.79587953494126 within 5 delta (24.672858848635656 difference) : Should be 480.79587953494126\n",
      "\n",
      "======================================================================\n",
      "FAIL: runTest (mod.testing.test_stdev.<locals>.TestKnown)\n",
      "----------------------------------------------------------------------\n",
      "Traceback (most recent call last):\n",
      "  File \"/home/ubuntu/jupyter/lab-functions-es/mod/testing.py\", line 142, in runTest\n",
      "    self.assertAlmostEqual(fn(self.input), self.output, delta=5, msg=f\"Should be {self.output}\")\n",
      "AssertionError: 534.43082676222 != 551.9577844666504 within 5 delta (17.5269577044304 difference) : Should be 551.9577844666504\n",
      "\n",
      "======================================================================\n",
      "FAIL: runTest (mod.testing.test_stdev.<locals>.TestKnown)\n",
      "----------------------------------------------------------------------\n",
      "Traceback (most recent call last):\n",
      "  File \"/home/ubuntu/jupyter/lab-functions-es/mod/testing.py\", line 142, in runTest\n",
      "    self.assertAlmostEqual(fn(self.input), self.output, delta=5, msg=f\"Should be {self.output}\")\n",
      "AssertionError: 478.95713126933396 != 494.6647981209094 within 5 delta (15.707666851575425 difference) : Should be 494.6647981209094\n",
      "\n",
      "======================================================================\n",
      "FAIL: runTest (mod.testing.test_stdev.<locals>.TestKnown)\n",
      "----------------------------------------------------------------------\n",
      "Traceback (most recent call last):\n",
      "  File \"/home/ubuntu/jupyter/lab-functions-es/mod/testing.py\", line 142, in runTest\n",
      "    self.assertAlmostEqual(fn(self.input), self.output, delta=5, msg=f\"Should be {self.output}\")\n",
      "AssertionError: 621.5551185792768 != 627.3914449187466 within 5 delta (5.836326339469792 difference) : Should be 627.3914449187466\n",
      "\n",
      "======================================================================\n",
      "FAIL: runTest (mod.testing.test_stdev.<locals>.TestKnown)\n",
      "----------------------------------------------------------------------\n",
      "Traceback (most recent call last):\n",
      "  File \"/home/ubuntu/jupyter/lab-functions-es/mod/testing.py\", line 142, in runTest\n",
      "    self.assertAlmostEqual(fn(self.input), self.output, delta=5, msg=f\"Should be {self.output}\")\n",
      "AssertionError: 526.6993331114062 != 550.1195118087771 within 5 delta (23.420178697370943 difference) : Should be 550.1195118087771\n",
      "\n",
      "======================================================================\n",
      "FAIL: runTest (mod.testing.test_stdev.<locals>.TestKnown)\n",
      "----------------------------------------------------------------------\n",
      "Traceback (most recent call last):\n",
      "  File \"/home/ubuntu/jupyter/lab-functions-es/mod/testing.py\", line 142, in runTest\n",
      "    self.assertAlmostEqual(fn(self.input), self.output, delta=5, msg=f\"Should be {self.output}\")\n",
      "AssertionError: 530.0515335869594 != 540.1486605542733 within 5 delta (10.097126967313898 difference) : Should be 540.1486605542733\n",
      "\n",
      "======================================================================\n",
      "FAIL: runTest (mod.testing.test_stdev.<locals>.TestKnown)\n",
      "----------------------------------------------------------------------\n",
      "Traceback (most recent call last):\n",
      "  File \"/home/ubuntu/jupyter/lab-functions-es/mod/testing.py\", line 142, in runTest\n",
      "    self.assertAlmostEqual(fn(self.input), self.output, delta=5, msg=f\"Should be {self.output}\")\n",
      "AssertionError: 620.367304182583 != 627.3773267348845 within 5 delta (7.010022552301507 difference) : Should be 627.3773267348845\n",
      "\n",
      "======================================================================\n",
      "FAIL: runTest (mod.testing.test_stdev.<locals>.TestKnown)\n",
      "----------------------------------------------------------------------\n",
      "Traceback (most recent call last):\n",
      "  File \"/home/ubuntu/jupyter/lab-functions-es/mod/testing.py\", line 142, in runTest\n",
      "    self.assertAlmostEqual(fn(self.input), self.output, delta=5, msg=f\"Should be {self.output}\")\n",
      "AssertionError: 553.6457825972717 != 560.5236336698382 within 5 delta (6.8778510725665 difference) : Should be 560.5236336698382\n",
      "\n",
      "======================================================================\n",
      "FAIL: runTest (mod.testing.test_stdev.<locals>.TestKnown)\n",
      "----------------------------------------------------------------------\n",
      "Traceback (most recent call last):\n",
      "  File \"/home/ubuntu/jupyter/lab-functions-es/mod/testing.py\", line 142, in runTest\n",
      "    self.assertAlmostEqual(fn(self.input), self.output, delta=5, msg=f\"Should be {self.output}\")\n",
      "AssertionError: 489.4121383976265 != 497.243229855467 within 5 delta (7.8310914578405 difference) : Should be 497.243229855467\n",
      "\n",
      "======================================================================\n",
      "FAIL: runTest (mod.testing.test_stdev.<locals>.TestKnown)\n",
      "----------------------------------------------------------------------\n",
      "Traceback (most recent call last):\n",
      "  File \"/home/ubuntu/jupyter/lab-functions-es/mod/testing.py\", line 142, in runTest\n",
      "    self.assertAlmostEqual(fn(self.input), self.output, delta=5, msg=f\"Should be {self.output}\")\n",
      "AssertionError: 544.3386899486385 != 562.1905815646505 within 5 delta (17.85189161601204 difference) : Should be 562.1905815646505\n",
      "\n",
      "======================================================================\n",
      "FAIL: runTest (mod.testing.test_stdev.<locals>.TestKnown)\n",
      "----------------------------------------------------------------------\n",
      "Traceback (most recent call last):\n",
      "  File \"/home/ubuntu/jupyter/lab-functions-es/mod/testing.py\", line 142, in runTest\n",
      "    self.assertAlmostEqual(fn(self.input), self.output, delta=5, msg=f\"Should be {self.output}\")\n",
      "AssertionError: 607.1058013901965 != 618.246286603867 within 5 delta (11.140485213670559 difference) : Should be 618.246286603867\n",
      "\n",
      "======================================================================\n",
      "FAIL: runTest (mod.testing.test_stdev.<locals>.TestKnown)\n",
      "----------------------------------------------------------------------\n",
      "Traceback (most recent call last):\n",
      "  File \"/home/ubuntu/jupyter/lab-functions-es/mod/testing.py\", line 142, in runTest\n",
      "    self.assertAlmostEqual(fn(self.input), self.output, delta=5, msg=f\"Should be {self.output}\")\n",
      "AssertionError: 676.0746284440842 != 687.2501727900838 within 5 delta (11.175544345999583 difference) : Should be 687.2501727900838\n",
      "\n",
      "======================================================================\n",
      "FAIL: runTest (mod.testing.test_stdev.<locals>.TestKnown)\n",
      "----------------------------------------------------------------------\n",
      "Traceback (most recent call last):\n",
      "  File \"/home/ubuntu/jupyter/lab-functions-es/mod/testing.py\", line 142, in runTest\n",
      "    self.assertAlmostEqual(fn(self.input), self.output, delta=5, msg=f\"Should be {self.output}\")\n",
      "AssertionError: 523.986836683233 != 531.8667801583467 within 5 delta (7.879943475113691 difference) : Should be 531.8667801583467\n",
      "\n",
      "======================================================================\n",
      "FAIL: runTest (mod.testing.test_stdev.<locals>.TestKnown)\n",
      "----------------------------------------------------------------------\n",
      "Traceback (most recent call last):\n",
      "  File \"/home/ubuntu/jupyter/lab-functions-es/mod/testing.py\", line 142, in runTest\n",
      "    self.assertAlmostEqual(fn(self.input), self.output, delta=5, msg=f\"Should be {self.output}\")\n",
      "AssertionError: 596.5526861708427 != 604.7813877981258 within 5 delta (8.228701627283158 difference) : Should be 604.7813877981258\n",
      "\n",
      "======================================================================\n",
      "FAIL: runTest (mod.testing.test_stdev.<locals>.TestKnown)\n",
      "----------------------------------------------------------------------\n",
      "Traceback (most recent call last):\n",
      "  File \"/home/ubuntu/jupyter/lab-functions-es/mod/testing.py\", line 142, in runTest\n",
      "    self.assertAlmostEqual(fn(self.input), self.output, delta=5, msg=f\"Should be {self.output}\")\n",
      "AssertionError: 539.5080479820751 != 551.6333382972322 within 5 delta (12.12529031515703 difference) : Should be 551.6333382972322\n",
      "\n",
      "======================================================================\n",
      "FAIL: runTest (mod.testing.test_stdev.<locals>.TestKnown)\n",
      "----------------------------------------------------------------------\n",
      "Traceback (most recent call last):\n",
      "  File \"/home/ubuntu/jupyter/lab-functions-es/mod/testing.py\", line 142, in runTest\n",
      "    self.assertAlmostEqual(fn(self.input), self.output, delta=5, msg=f\"Should be {self.output}\")\n",
      "AssertionError: 570.6561847341974 != 579.5040950779564 within 5 delta (8.847910343759054 difference) : Should be 579.5040950779564\n",
      "\n",
      "======================================================================\n",
      "FAIL: runTest (mod.testing.test_stdev.<locals>.TestKnown)\n",
      "----------------------------------------------------------------------\n",
      "Traceback (most recent call last):\n",
      "  File \"/home/ubuntu/jupyter/lab-functions-es/mod/testing.py\", line 142, in runTest\n",
      "    self.assertAlmostEqual(fn(self.input), self.output, delta=5, msg=f\"Should be {self.output}\")\n",
      "AssertionError: 534.0024698024364 != 554.1605521709549 within 5 delta (20.158082368518535 difference) : Should be 554.1605521709549\n",
      "\n",
      "======================================================================\n",
      "FAIL: runTest (mod.testing.test_stdev.<locals>.TestKnown)\n",
      "----------------------------------------------------------------------\n",
      "Traceback (most recent call last):\n",
      "  File \"/home/ubuntu/jupyter/lab-functions-es/mod/testing.py\", line 142, in runTest\n",
      "    self.assertAlmostEqual(fn(self.input), self.output, delta=5, msg=f\"Should be {self.output}\")\n",
      "AssertionError: 667.9039156439677 != 681.1310198147241 within 5 delta (13.227104170756434 difference) : Should be 681.1310198147241\n",
      "\n",
      "======================================================================\n",
      "FAIL: runTest (mod.testing.test_stdev.<locals>.TestKnown)\n",
      "----------------------------------------------------------------------\n",
      "Traceback (most recent call last):\n",
      "  File \"/home/ubuntu/jupyter/lab-functions-es/mod/testing.py\", line 142, in runTest\n",
      "    self.assertAlmostEqual(fn(self.input), self.output, delta=5, msg=f\"Should be {self.output}\")\n",
      "AssertionError: 549.1263372074554 != 554.1875164301371 within 5 delta (5.061179222681631 difference) : Should be 554.1875164301371\n",
      "\n",
      "======================================================================\n",
      "FAIL: runTest (mod.testing.test_stdev.<locals>.TestKnown)\n",
      "----------------------------------------------------------------------\n",
      "Traceback (most recent call last):\n",
      "  File \"/home/ubuntu/jupyter/lab-functions-es/mod/testing.py\", line 142, in runTest\n",
      "    self.assertAlmostEqual(fn(self.input), self.output, delta=5, msg=f\"Should be {self.output}\")\n",
      "AssertionError: 615.4062607615388 != 629.237341875915 within 5 delta (13.831081114376275 difference) : Should be 629.237341875915\n",
      "\n",
      "======================================================================\n",
      "FAIL: runTest (mod.testing.test_stdev.<locals>.TestKnown)\n",
      "----------------------------------------------------------------------\n",
      "Traceback (most recent call last):\n",
      "  File \"/home/ubuntu/jupyter/lab-functions-es/mod/testing.py\", line 142, in runTest\n",
      "    self.assertAlmostEqual(fn(self.input), self.output, delta=5, msg=f\"Should be {self.output}\")\n",
      "AssertionError: 467.3349348786421 != 480.8836807161218 within 5 delta (13.548745837479657 difference) : Should be 480.8836807161218\n",
      "\n",
      "======================================================================\n",
      "FAIL: runTest (mod.testing.test_stdev.<locals>.TestKnown)\n",
      "----------------------------------------------------------------------\n",
      "Traceback (most recent call last):\n",
      "  File \"/home/ubuntu/jupyter/lab-functions-es/mod/testing.py\", line 142, in runTest\n",
      "    self.assertAlmostEqual(fn(self.input), self.output, delta=5, msg=f\"Should be {self.output}\")\n",
      "AssertionError: 531.427929375854 != 540.2124572098751 within 5 delta (8.784527834021105 difference) : Should be 540.2124572098751\n",
      "\n",
      "======================================================================\n",
      "FAIL: runTest (mod.testing.test_stdev.<locals>.TestKnown)\n",
      "----------------------------------------------------------------------\n",
      "Traceback (most recent call last):\n",
      "  File \"/home/ubuntu/jupyter/lab-functions-es/mod/testing.py\", line 142, in runTest\n",
      "    self.assertAlmostEqual(fn(self.input), self.output, delta=5, msg=f\"Should be {self.output}\")\n",
      "AssertionError: 628.9273725075071 != 646.1614503226272 within 5 delta (17.23407781512003 difference) : Should be 646.1614503226272\n",
      "\n",
      "======================================================================\n",
      "FAIL: runTest (mod.testing.test_stdev.<locals>.TestKnown)\n",
      "----------------------------------------------------------------------\n",
      "Traceback (most recent call last):\n",
      "  File \"/home/ubuntu/jupyter/lab-functions-es/mod/testing.py\", line 142, in runTest\n",
      "    self.assertAlmostEqual(fn(self.input), self.output, delta=5, msg=f\"Should be {self.output}\")\n",
      "AssertionError: 582.0459781333061 != 591.0704849523602 within 5 delta (9.024506819054068 difference) : Should be 591.0704849523602\n",
      "\n",
      "======================================================================\n",
      "FAIL: runTest (mod.testing.test_stdev.<locals>.TestKnown)\n",
      "----------------------------------------------------------------------\n",
      "Traceback (most recent call last):\n",
      "  File \"/home/ubuntu/jupyter/lab-functions-es/mod/testing.py\", line 142, in runTest\n",
      "    self.assertAlmostEqual(fn(self.input), self.output, delta=5, msg=f\"Should be {self.output}\")\n",
      "AssertionError: 578.1404046596294 != 593.1595396465307 within 5 delta (15.019134986901236 difference) : Should be 593.1595396465307\n",
      "\n",
      "======================================================================\n",
      "FAIL: runTest (mod.testing.test_stdev.<locals>.TestKnown)\n",
      "----------------------------------------------------------------------\n",
      "Traceback (most recent call last):\n",
      "  File \"/home/ubuntu/jupyter/lab-functions-es/mod/testing.py\", line 142, in runTest\n",
      "    self.assertAlmostEqual(fn(self.input), self.output, delta=5, msg=f\"Should be {self.output}\")\n",
      "AssertionError: 456.7576502239041 != 463.62657175707227 within 5 delta (6.868921533168191 difference) : Should be 463.62657175707227\n",
      "\n",
      "======================================================================\n",
      "FAIL: runTest (mod.testing.test_stdev.<locals>.TestKnown)\n",
      "----------------------------------------------------------------------\n",
      "Traceback (most recent call last):\n",
      "  File \"/home/ubuntu/jupyter/lab-functions-es/mod/testing.py\", line 142, in runTest\n",
      "    self.assertAlmostEqual(fn(self.input), self.output, delta=5, msg=f\"Should be {self.output}\")\n",
      "AssertionError: 546.7897473232081 != 562.6420082181606 within 5 delta (15.852260894952565 difference) : Should be 562.6420082181606\n",
      "\n",
      "======================================================================\n",
      "FAIL: runTest (mod.testing.test_stdev.<locals>.TestKnown)\n",
      "----------------------------------------------------------------------\n",
      "Traceback (most recent call last):\n",
      "  File \"/home/ubuntu/jupyter/lab-functions-es/mod/testing.py\", line 142, in runTest\n",
      "    self.assertAlmostEqual(fn(self.input), self.output, delta=5, msg=f\"Should be {self.output}\")\n",
      "AssertionError: 499.7278634416936 != 516.116718065465 within 5 delta (16.38885462377135 difference) : Should be 516.116718065465\n",
      "\n",
      "======================================================================\n",
      "FAIL: runTest (mod.testing.test_stdev.<locals>.TestKnown)\n",
      "----------------------------------------------------------------------\n",
      "Traceback (most recent call last):\n",
      "  File \"/home/ubuntu/jupyter/lab-functions-es/mod/testing.py\", line 142, in runTest\n",
      "    self.assertAlmostEqual(fn(self.input), self.output, delta=5, msg=f\"Should be {self.output}\")\n",
      "AssertionError: 481.11878124171795 != 491.9317893524407 within 5 delta (10.813008110722762 difference) : Should be 491.9317893524407\n",
      "\n",
      "======================================================================\n",
      "FAIL: runTest (mod.testing.test_stdev.<locals>.TestKnown)\n",
      "----------------------------------------------------------------------\n",
      "Traceback (most recent call last):\n",
      "  File \"/home/ubuntu/jupyter/lab-functions-es/mod/testing.py\", line 142, in runTest\n",
      "    self.assertAlmostEqual(fn(self.input), self.output, delta=5, msg=f\"Should be {self.output}\")\n",
      "AssertionError: 582.4231252532766 != 587.6003215150682 within 5 delta (5.177196261791664 difference) : Should be 587.6003215150682\n",
      "\n",
      "======================================================================\n",
      "FAIL: runTest (mod.testing.test_stdev.<locals>.TestKnown)\n",
      "----------------------------------------------------------------------\n",
      "Traceback (most recent call last):\n",
      "  File \"/home/ubuntu/jupyter/lab-functions-es/mod/testing.py\", line 142, in runTest\n",
      "    self.assertAlmostEqual(fn(self.input), self.output, delta=5, msg=f\"Should be {self.output}\")\n",
      "AssertionError: 604.1652148256245 != 617.743656621776 within 5 delta (13.578441796151537 difference) : Should be 617.743656621776\n",
      "\n",
      "======================================================================\n",
      "FAIL: runTest (mod.testing.test_stdev.<locals>.TestKnown)\n",
      "----------------------------------------------------------------------\n",
      "Traceback (most recent call last):\n",
      "  File \"/home/ubuntu/jupyter/lab-functions-es/mod/testing.py\", line 142, in runTest\n",
      "    self.assertAlmostEqual(fn(self.input), self.output, delta=5, msg=f\"Should be {self.output}\")\n",
      "AssertionError: 509.9563314637832 != 523.204156590603 within 5 delta (13.247825126819805 difference) : Should be 523.204156590603\n",
      "\n",
      "======================================================================\n",
      "FAIL: runTest (mod.testing.test_stdev.<locals>.TestKnown)\n",
      "----------------------------------------------------------------------\n",
      "Traceback (most recent call last):\n",
      "  File \"/home/ubuntu/jupyter/lab-functions-es/mod/testing.py\", line 142, in runTest\n",
      "    self.assertAlmostEqual(fn(self.input), self.output, delta=5, msg=f\"Should be {self.output}\")\n",
      "AssertionError: 595.1859181893371 != 602.4005563689237 within 5 delta (7.214638179586586 difference) : Should be 602.4005563689237\n",
      "\n",
      "======================================================================\n",
      "FAIL: runTest (mod.testing.test_stdev.<locals>.TestKnown)\n",
      "----------------------------------------------------------------------\n",
      "Traceback (most recent call last):\n",
      "  File \"/home/ubuntu/jupyter/lab-functions-es/mod/testing.py\", line 142, in runTest\n",
      "    self.assertAlmostEqual(fn(self.input), self.output, delta=5, msg=f\"Should be {self.output}\")\n",
      "AssertionError: 633.3639327446544 != 645.9070104541722 within 5 delta (12.543077709517775 difference) : Should be 645.9070104541722\n",
      "\n",
      "======================================================================\n",
      "FAIL: runTest (mod.testing.test_stdev.<locals>.TestKnown)\n",
      "----------------------------------------------------------------------\n",
      "Traceback (most recent call last):\n",
      "  File \"/home/ubuntu/jupyter/lab-functions-es/mod/testing.py\", line 142, in runTest\n",
      "    self.assertAlmostEqual(fn(self.input), self.output, delta=5, msg=f\"Should be {self.output}\")\n",
      "AssertionError: 564.6931394648185 != 570.0970246911342 within 5 delta (5.403885226315651 difference) : Should be 570.0970246911342\n",
      "\n",
      "======================================================================\n",
      "FAIL: runTest (mod.testing.test_stdev.<locals>.TestKnown)\n",
      "----------------------------------------------------------------------\n",
      "Traceback (most recent call last):\n",
      "  File \"/home/ubuntu/jupyter/lab-functions-es/mod/testing.py\", line 142, in runTest\n",
      "    self.assertAlmostEqual(fn(self.input), self.output, delta=5, msg=f\"Should be {self.output}\")\n",
      "AssertionError: 571.2014804663781 != 576.7743098036459 within 5 delta (5.572829337267763 difference) : Should be 576.7743098036459\n",
      "\n",
      "======================================================================\n",
      "FAIL: runTest (mod.testing.test_stdev.<locals>.TestKnown)\n",
      "----------------------------------------------------------------------\n",
      "Traceback (most recent call last):\n",
      "  File \"/home/ubuntu/jupyter/lab-functions-es/mod/testing.py\", line 142, in runTest\n",
      "    self.assertAlmostEqual(fn(self.input), self.output, delta=5, msg=f\"Should be {self.output}\")\n",
      "AssertionError: 632.2028325526574 != 647.0802288053796 within 5 delta (14.877396252722292 difference) : Should be 647.0802288053796\n",
      "\n",
      "======================================================================\n",
      "FAIL: runTest (mod.testing.test_stdev.<locals>.TestKnown)\n",
      "----------------------------------------------------------------------\n",
      "Traceback (most recent call last):\n",
      "  File \"/home/ubuntu/jupyter/lab-functions-es/mod/testing.py\", line 142, in runTest\n",
      "    self.assertAlmostEqual(fn(self.input), self.output, delta=5, msg=f\"Should be {self.output}\")\n",
      "AssertionError: 586.0206545954304 != 594.8334897855113 within 5 delta (8.812835190080932 difference) : Should be 594.8334897855113\n",
      "\n",
      "======================================================================\n",
      "FAIL: runTest (mod.testing.test_stdev.<locals>.TestKnown)\n",
      "----------------------------------------------------------------------\n",
      "Traceback (most recent call last):\n",
      "  File \"/home/ubuntu/jupyter/lab-functions-es/mod/testing.py\", line 142, in runTest\n",
      "    self.assertAlmostEqual(fn(self.input), self.output, delta=5, msg=f\"Should be {self.output}\")\n",
      "AssertionError: 569.7269982649452 != 576.0225153275271 within 5 delta (6.295517062581894 difference) : Should be 576.0225153275271\n",
      "\n",
      "======================================================================\n",
      "FAIL: runTest (mod.testing.test_stdev.<locals>.TestKnown)\n",
      "----------------------------------------------------------------------\n",
      "Traceback (most recent call last):\n",
      "  File \"/home/ubuntu/jupyter/lab-functions-es/mod/testing.py\", line 142, in runTest\n",
      "    self.assertAlmostEqual(fn(self.input), self.output, delta=5, msg=f\"Should be {self.output}\")\n",
      "AssertionError: 551.2250056036293 != 564.8375493386193 within 5 delta (13.612543734990027 difference) : Should be 564.8375493386193\n",
      "\n",
      "======================================================================\n",
      "FAIL: runTest (mod.testing.test_stdev.<locals>.TestKnown)\n",
      "----------------------------------------------------------------------\n",
      "Traceback (most recent call last):\n",
      "  File \"/home/ubuntu/jupyter/lab-functions-es/mod/testing.py\", line 142, in runTest\n",
      "    self.assertAlmostEqual(fn(self.input), self.output, delta=5, msg=f\"Should be {self.output}\")\n",
      "AssertionError: 563.5915868901145 != 573.5674336860677 within 5 delta (9.975846795953203 difference) : Should be 573.5674336860677\n",
      "\n",
      "======================================================================\n",
      "FAIL: runTest (mod.testing.test_stdev.<locals>.TestKnown)\n",
      "----------------------------------------------------------------------\n",
      "Traceback (most recent call last):\n",
      "  File \"/home/ubuntu/jupyter/lab-functions-es/mod/testing.py\", line 142, in runTest\n",
      "    self.assertAlmostEqual(fn(self.input), self.output, delta=5, msg=f\"Should be {self.output}\")\n",
      "AssertionError: 504.63020689836407 != 511.9974609312042 within 5 delta (7.367254032840151 difference) : Should be 511.9974609312042\n",
      "\n",
      "======================================================================\n",
      "FAIL: runTest (mod.testing.test_stdev.<locals>.TestKnown)\n",
      "----------------------------------------------------------------------\n",
      "Traceback (most recent call last):\n",
      "  File \"/home/ubuntu/jupyter/lab-functions-es/mod/testing.py\", line 142, in runTest\n",
      "    self.assertAlmostEqual(fn(self.input), self.output, delta=5, msg=f\"Should be {self.output}\")\n",
      "AssertionError: 639.0815061379911 != 646.4699770984269 within 5 delta (7.388470960435711 difference) : Should be 646.4699770984269\n",
      "\n",
      "======================================================================\n",
      "FAIL: runTest (mod.testing.test_stdev.<locals>.TestKnown)\n",
      "----------------------------------------------------------------------\n",
      "Traceback (most recent call last):\n",
      "  File \"/home/ubuntu/jupyter/lab-functions-es/mod/testing.py\", line 142, in runTest\n",
      "    self.assertAlmostEqual(fn(self.input), self.output, delta=5, msg=f\"Should be {self.output}\")\n",
      "AssertionError: 566.5632892604816 != 573.6016124071633 within 5 delta (7.038323146681705 difference) : Should be 573.6016124071633\n",
      "\n",
      "======================================================================\n",
      "FAIL: runTest (mod.testing.test_stdev.<locals>.TestKnown)\n",
      "----------------------------------------------------------------------\n",
      "Traceback (most recent call last):\n",
      "  File \"/home/ubuntu/jupyter/lab-functions-es/mod/testing.py\", line 142, in runTest\n",
      "    self.assertAlmostEqual(fn(self.input), self.output, delta=5, msg=f\"Should be {self.output}\")\n",
      "AssertionError: 556.7013462251452 != 562.5925298205879 within 5 delta (5.891183595442612 difference) : Should be 562.5925298205879\n",
      "\n",
      "======================================================================\n",
      "FAIL: runTest (mod.testing.test_stdev.<locals>.TestKnown)\n",
      "----------------------------------------------------------------------\n",
      "Traceback (most recent call last):\n",
      "  File \"/home/ubuntu/jupyter/lab-functions-es/mod/testing.py\", line 142, in runTest\n",
      "    self.assertAlmostEqual(fn(self.input), self.output, delta=5, msg=f\"Should be {self.output}\")\n",
      "AssertionError: 633.87048094741 != 639.1309070866802 within 5 delta (5.26042613927018 difference) : Should be 639.1309070866802\n",
      "\n",
      "======================================================================\n",
      "FAIL: runTest (mod.testing.test_stdev.<locals>.TestKnown)\n",
      "----------------------------------------------------------------------\n",
      "Traceback (most recent call last):\n",
      "  File \"/home/ubuntu/jupyter/lab-functions-es/mod/testing.py\", line 142, in runTest\n",
      "    self.assertAlmostEqual(fn(self.input), self.output, delta=5, msg=f\"Should be {self.output}\")\n",
      "AssertionError: 596.7159107139456 != 610.7582063141572 within 5 delta (14.04229560021156 difference) : Should be 610.7582063141572\n",
      "\n",
      "----------------------------------------------------------------------\n",
      "Ran 100 tests in 0.089s\n",
      "\n",
      "FAILED (failures=60)\n"
     ]
    },
    {
     "name": "stdout",
     "output_type": "stream",
     "text": [
      "280514.1052631579\n",
      "348385.6265614727\n",
      "343010.358367347\n",
      "325735.54678204446\n",
      "269306.8114285714\n",
      "273685.3161182841\n",
      "316971.3009323546\n",
      "309826.27405917825\n",
      "308754.0591715976\n",
      "314202.0895792243\n",
      "444834.00503905275\n",
      "326599.71555555554\n",
      "303545.2275\n",
      "364474.62489149283\n",
      "334473.8110651975\n",
      "305737.3869387756\n",
      "387441.55002263474\n",
      "288353.1209876543\n",
      "314720.63269054185\n",
      "353193.6497620463\n",
      "283286.5891555555\n",
      "319126.5308159721\n",
      "300840.18605703936\n",
      "446211.2853185596\n",
      "277062.85759999993\n",
      "369444.8340192043\n",
      "344921.6499\n",
      "208048.21\n",
      "285616.30859375\n",
      "348859.070415879\n",
      "229399.93359375\n",
      "386330.7654320989\n",
      "269845.1818442976\n",
      "277412.1875\n",
      "280954.6282578876\n",
      "372870.4313016528\n",
      "384855.5920987655\n",
      "297301.77634297527\n",
      "265579.3958613276\n",
      "306523.65258774546\n",
      "239524.2412109375\n",
      "357190.5175490779\n",
      "296304.609375\n",
      "368577.45408163266\n",
      "457076.9032258064\n",
      "274562.2050173011\n",
      "355875.10737764795\n",
      "291068.9338374291\n",
      "325648.48117539036\n",
      "316226.370675202\n",
      "346481.87249864795\n",
      "346839.1322222221\n",
      "285158.637755102\n",
      "446095.6405325443\n",
      "301539.734214876\n",
      "352433.8975426905\n",
      "378724.86578449904\n",
      "310723.4522714981\n",
      "355100.5027072053\n",
      "329909.0819555556\n",
      "218401.9413580247\n",
      "282415.64412070764\n",
      "395549.63988919667\n",
      "338777.52066115703\n",
      "334246.3275\n",
      "208627.5510380623\n",
      "337484.5185657595\n",
      "298979.02777777775\n",
      "261135.5925925926\n",
      "249027.38049586772\n",
      "249727.9375\n",
      "231475.28166351604\n",
      "339216.69682979386\n",
      "365015.60680529306\n",
      "260055.45999999996\n",
      "354246.2772108843\n",
      "401149.8713017752\n",
      "318878.3417586329\n",
      "326271.1312869822\n",
      "333348.33516988065\n",
      "399680.4214876033\n",
      "343420.2076124567\n",
      "274714.085255404\n",
      "344368.012641777\n",
      "404905.4153911563\n",
      "324588.85255198483\n",
      "309177.52776342985\n",
      "303849.00680272107\n",
      "317635.47681331745\n",
      "254651.6457142857\n",
      "408425.1714876033\n",
      "316993.5377999095\n",
      "314082.06726354454\n",
      "317000.13960000005\n",
      "320993.9607376562\n",
      "309916.38888888905\n",
      "401791.7866165009\n",
      "356069.87809917354\n",
      "305576.38646193774\n",
      "282329.72177273274\n"
     ]
    }
   ],
   "source": [
    "# Para testear tu función\n",
    "test_stdev(st_dev)"
   ]
  },
  {
   "cell_type": "markdown",
   "metadata": {},
   "source": [
    "## 10. Escribe una función para verificar si una cadena es un pangrama, es decir: si contiene todas las letras del alfabeto al menos una vez. Ten en cuenta que las cadenas pueden contener caracteres que no son letras."
   ]
  },
  {
   "cell_type": "code",
   "execution_count": null,
   "metadata": {},
   "outputs": [],
   "source": [
    "def pangram(string):\n",
    "#tu codigo aquí"
   ]
  },
  {
   "cell_type": "code",
   "execution_count": null,
   "metadata": {},
   "outputs": [],
   "source": [
    "# Para testear tu función\n",
    "test_pangram(pangram)"
   ]
  },
  {
   "cell_type": "markdown",
   "metadata": {},
   "source": [
    "## 11. Escribe una función que reciba una cadena de palabras separadas por comas y devuelva una cadena de palabras separadas por comas ordenadas alfabéticamente.\n",
    "\n",
    "`NOTA: Puedes usar sorted pero no split y definitivamente no join! 🤪`"
   ]
  },
  {
   "cell_type": "code",
   "execution_count": null,
   "metadata": {},
   "outputs": [],
   "source": [
    "def sort_alpha(string):\n",
    "#tu codigo aquí"
   ]
  },
  {
   "cell_type": "code",
   "execution_count": null,
   "metadata": {},
   "outputs": [],
   "source": [
    "# Para testear tu función \n",
    "test_alpha(sort_alpha)"
   ]
  },
  {
   "cell_type": "markdown",
   "metadata": {},
   "source": [
    "## 12. Escribe una función para verificar si una contraseña dada es fuerte (al menos 8 caracteres, al menos una minúscula, al menos una mayúscula, al menos un número y al menos un carácter especial). Debería devolver True si es fuerte y False si no lo es."
   ]
  },
  {
   "cell_type": "code",
   "execution_count": null,
   "metadata": {},
   "outputs": [],
   "source": [
    "def check_pass(password):\n",
    "#tu codigo aquí"
   ]
  },
  {
   "cell_type": "code",
   "execution_count": null,
   "metadata": {},
   "outputs": [],
   "source": [
    "# Para testear tu función\n",
    "test_pass(check_pass)"
   ]
  }
 ],
 "metadata": {
  "kernelspec": {
   "display_name": "Python 3 (ipykernel)",
   "language": "python",
   "name": "python3"
  },
  "language_info": {
   "codemirror_mode": {
    "name": "ipython",
    "version": 3
   },
   "file_extension": ".py",
   "mimetype": "text/x-python",
   "name": "python",
   "nbconvert_exporter": "python",
   "pygments_lexer": "ipython3",
   "version": "3.10.12"
  },
  "vscode": {
   "interpreter": {
    "hash": "aee8b7b246df8f9039afb4144a1f6fd8d2ca17a180786b69acc140d282b71a49"
   }
  }
 },
 "nbformat": 4,
 "nbformat_minor": 4
}
